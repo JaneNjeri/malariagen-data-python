{
 "cells": [
  {
   "cell_type": "code",
   "execution_count": 45,
   "id": "1ffd4639",
   "metadata": {},
   "outputs": [],
   "source": [
    "import malariagen_data\n",
    "import allel\n",
    "import dask"
   ]
  },
  {
   "cell_type": "code",
   "execution_count": 2,
   "id": "3eb2952d",
   "metadata": {},
   "outputs": [],
   "source": [
    "%run \"../malariagen_data/util.py\""
   ]
  },
  {
   "cell_type": "code",
   "execution_count": 3,
   "id": "d8c5a582",
   "metadata": {},
   "outputs": [
    {
     "data": {
      "application/javascript": [
       "\n",
       "(function(root) {\n",
       "  function now() {\n",
       "    return new Date();\n",
       "  }\n",
       "\n",
       "  var force = true;\n",
       "\n",
       "  if (typeof root._bokeh_onload_callbacks === \"undefined\" || force === true) {\n",
       "    root._bokeh_onload_callbacks = [];\n",
       "    root._bokeh_is_loading = undefined;\n",
       "  }\n",
       "\n",
       "  var JS_MIME_TYPE = 'application/javascript';\n",
       "  var HTML_MIME_TYPE = 'text/html';\n",
       "  var EXEC_MIME_TYPE = 'application/vnd.bokehjs_exec.v0+json';\n",
       "  var CLASS_NAME = 'output_bokeh rendered_html';\n",
       "\n",
       "  /**\n",
       "   * Render data to the DOM node\n",
       "   */\n",
       "  function render(props, node) {\n",
       "    var script = document.createElement(\"script\");\n",
       "    node.appendChild(script);\n",
       "  }\n",
       "\n",
       "  /**\n",
       "   * Handle when an output is cleared or removed\n",
       "   */\n",
       "  function handleClearOutput(event, handle) {\n",
       "    var cell = handle.cell;\n",
       "\n",
       "    var id = cell.output_area._bokeh_element_id;\n",
       "    var server_id = cell.output_area._bokeh_server_id;\n",
       "    // Clean up Bokeh references\n",
       "    if (id != null && id in Bokeh.index) {\n",
       "      Bokeh.index[id].model.document.clear();\n",
       "      delete Bokeh.index[id];\n",
       "    }\n",
       "\n",
       "    if (server_id !== undefined) {\n",
       "      // Clean up Bokeh references\n",
       "      var cmd = \"from bokeh.io.state import curstate; print(curstate().uuid_to_server['\" + server_id + \"'].get_sessions()[0].document.roots[0]._id)\";\n",
       "      cell.notebook.kernel.execute(cmd, {\n",
       "        iopub: {\n",
       "          output: function(msg) {\n",
       "            var id = msg.content.text.trim();\n",
       "            if (id in Bokeh.index) {\n",
       "              Bokeh.index[id].model.document.clear();\n",
       "              delete Bokeh.index[id];\n",
       "            }\n",
       "          }\n",
       "        }\n",
       "      });\n",
       "      // Destroy server and session\n",
       "      var cmd = \"import bokeh.io.notebook as ion; ion.destroy_server('\" + server_id + \"')\";\n",
       "      cell.notebook.kernel.execute(cmd);\n",
       "    }\n",
       "  }\n",
       "\n",
       "  /**\n",
       "   * Handle when a new output is added\n",
       "   */\n",
       "  function handleAddOutput(event, handle) {\n",
       "    var output_area = handle.output_area;\n",
       "    var output = handle.output;\n",
       "\n",
       "    // limit handleAddOutput to display_data with EXEC_MIME_TYPE content only\n",
       "    if ((output.output_type != \"display_data\") || (!Object.prototype.hasOwnProperty.call(output.data, EXEC_MIME_TYPE))) {\n",
       "      return\n",
       "    }\n",
       "\n",
       "    var toinsert = output_area.element.find(\".\" + CLASS_NAME.split(' ')[0]);\n",
       "\n",
       "    if (output.metadata[EXEC_MIME_TYPE][\"id\"] !== undefined) {\n",
       "      toinsert[toinsert.length - 1].firstChild.textContent = output.data[JS_MIME_TYPE];\n",
       "      // store reference to embed id on output_area\n",
       "      output_area._bokeh_element_id = output.metadata[EXEC_MIME_TYPE][\"id\"];\n",
       "    }\n",
       "    if (output.metadata[EXEC_MIME_TYPE][\"server_id\"] !== undefined) {\n",
       "      var bk_div = document.createElement(\"div\");\n",
       "      bk_div.innerHTML = output.data[HTML_MIME_TYPE];\n",
       "      var script_attrs = bk_div.children[0].attributes;\n",
       "      for (var i = 0; i < script_attrs.length; i++) {\n",
       "        toinsert[toinsert.length - 1].firstChild.setAttribute(script_attrs[i].name, script_attrs[i].value);\n",
       "        toinsert[toinsert.length - 1].firstChild.textContent = bk_div.children[0].textContent\n",
       "      }\n",
       "      // store reference to server id on output_area\n",
       "      output_area._bokeh_server_id = output.metadata[EXEC_MIME_TYPE][\"server_id\"];\n",
       "    }\n",
       "  }\n",
       "\n",
       "  function register_renderer(events, OutputArea) {\n",
       "\n",
       "    function append_mime(data, metadata, element) {\n",
       "      // create a DOM node to render to\n",
       "      var toinsert = this.create_output_subarea(\n",
       "        metadata,\n",
       "        CLASS_NAME,\n",
       "        EXEC_MIME_TYPE\n",
       "      );\n",
       "      this.keyboard_manager.register_events(toinsert);\n",
       "      // Render to node\n",
       "      var props = {data: data, metadata: metadata[EXEC_MIME_TYPE]};\n",
       "      render(props, toinsert[toinsert.length - 1]);\n",
       "      element.append(toinsert);\n",
       "      return toinsert\n",
       "    }\n",
       "\n",
       "    /* Handle when an output is cleared or removed */\n",
       "    events.on('clear_output.CodeCell', handleClearOutput);\n",
       "    events.on('delete.Cell', handleClearOutput);\n",
       "\n",
       "    /* Handle when a new output is added */\n",
       "    events.on('output_added.OutputArea', handleAddOutput);\n",
       "\n",
       "    /**\n",
       "     * Register the mime type and append_mime function with output_area\n",
       "     */\n",
       "    OutputArea.prototype.register_mime_type(EXEC_MIME_TYPE, append_mime, {\n",
       "      /* Is output safe? */\n",
       "      safe: true,\n",
       "      /* Index of renderer in `output_area.display_order` */\n",
       "      index: 0\n",
       "    });\n",
       "  }\n",
       "\n",
       "  // register the mime type if in Jupyter Notebook environment and previously unregistered\n",
       "  if (root.Jupyter !== undefined) {\n",
       "    var events = require('base/js/events');\n",
       "    var OutputArea = require('notebook/js/outputarea').OutputArea;\n",
       "\n",
       "    if (OutputArea.prototype.mime_types().indexOf(EXEC_MIME_TYPE) == -1) {\n",
       "      register_renderer(events, OutputArea);\n",
       "    }\n",
       "  }\n",
       "\n",
       "  \n",
       "  if (typeof (root._bokeh_timeout) === \"undefined\" || force === true) {\n",
       "    root._bokeh_timeout = Date.now() + 5000;\n",
       "    root._bokeh_failed_load = false;\n",
       "  }\n",
       "\n",
       "  var NB_LOAD_WARNING = {'data': {'text/html':\n",
       "     \"<div style='background-color: #fdd'>\\n\"+\n",
       "     \"<p>\\n\"+\n",
       "     \"BokehJS does not appear to have successfully loaded. If loading BokehJS from CDN, this \\n\"+\n",
       "     \"may be due to a slow or bad network connection. Possible fixes:\\n\"+\n",
       "     \"</p>\\n\"+\n",
       "     \"<ul>\\n\"+\n",
       "     \"<li>re-rerun `output_notebook()` to attempt to load from CDN again, or</li>\\n\"+\n",
       "     \"<li>use INLINE resources instead, as so:</li>\\n\"+\n",
       "     \"</ul>\\n\"+\n",
       "     \"<code>\\n\"+\n",
       "     \"from bokeh.resources import INLINE\\n\"+\n",
       "     \"output_notebook(resources=INLINE)\\n\"+\n",
       "     \"</code>\\n\"+\n",
       "     \"</div>\"}};\n",
       "\n",
       "  function display_loaded() {\n",
       "    var el = document.getElementById(null);\n",
       "    if (el != null) {\n",
       "      el.textContent = \"BokehJS is loading...\";\n",
       "    }\n",
       "    if (root.Bokeh !== undefined) {\n",
       "      if (el != null) {\n",
       "        el.textContent = \"BokehJS \" + root.Bokeh.version + \" successfully loaded.\";\n",
       "      }\n",
       "    } else if (Date.now() < root._bokeh_timeout) {\n",
       "      setTimeout(display_loaded, 100)\n",
       "    }\n",
       "  }\n",
       "\n",
       "\n",
       "  function run_callbacks() {\n",
       "    try {\n",
       "      root._bokeh_onload_callbacks.forEach(function(callback) {\n",
       "        if (callback != null)\n",
       "          callback();\n",
       "      });\n",
       "    } finally {\n",
       "      delete root._bokeh_onload_callbacks\n",
       "    }\n",
       "    console.debug(\"Bokeh: all callbacks have finished\");\n",
       "  }\n",
       "\n",
       "  function load_libs(css_urls, js_urls, callback) {\n",
       "    if (css_urls == null) css_urls = [];\n",
       "    if (js_urls == null) js_urls = [];\n",
       "\n",
       "    root._bokeh_onload_callbacks.push(callback);\n",
       "    if (root._bokeh_is_loading > 0) {\n",
       "      console.debug(\"Bokeh: BokehJS is being loaded, scheduling callback at\", now());\n",
       "      return null;\n",
       "    }\n",
       "    if (js_urls == null || js_urls.length === 0) {\n",
       "      run_callbacks();\n",
       "      return null;\n",
       "    }\n",
       "    console.debug(\"Bokeh: BokehJS not loaded, scheduling load and callback at\", now());\n",
       "    root._bokeh_is_loading = css_urls.length + js_urls.length;\n",
       "\n",
       "    function on_load() {\n",
       "      root._bokeh_is_loading--;\n",
       "      if (root._bokeh_is_loading === 0) {\n",
       "        console.debug(\"Bokeh: all BokehJS libraries/stylesheets loaded\");\n",
       "        run_callbacks()\n",
       "      }\n",
       "    }\n",
       "\n",
       "    function on_error(url) {\n",
       "      console.error(\"failed to load \" + url);\n",
       "    }\n",
       "\n",
       "    for (let i = 0; i < css_urls.length; i++) {\n",
       "      const url = css_urls[i];\n",
       "      const element = document.createElement(\"link\");\n",
       "      element.onload = on_load;\n",
       "      element.onerror = on_error.bind(null, url);\n",
       "      element.rel = \"stylesheet\";\n",
       "      element.type = \"text/css\";\n",
       "      element.href = url;\n",
       "      console.debug(\"Bokeh: injecting link tag for BokehJS stylesheet: \", url);\n",
       "      document.body.appendChild(element);\n",
       "    }\n",
       "\n",
       "    const hashes = {\"https://cdn.bokeh.org/bokeh/release/bokeh-2.3.1.min.js\": \"YF85VygJKMVnHE+lLv2AM93Vbstr0yo2TbIu5v8se5Rq3UQAUmcuh4aaJwNlpKwa\", \"https://cdn.bokeh.org/bokeh/release/bokeh-widgets-2.3.1.min.js\": \"KKuas3gevv3PvrlkyCMzffFeaMq5we/a2QsP5AUoS3mJ0jmaCL7jirFJN3GoE/lM\", \"https://cdn.bokeh.org/bokeh/release/bokeh-tables-2.3.1.min.js\": \"MK/uFc3YT18pkvvXRl66tTHjP0/dxoSH2e/eiNMFIguKlun2+WVqaPTWmUy/zvh4\"};\n",
       "\n",
       "    for (let i = 0; i < js_urls.length; i++) {\n",
       "      const url = js_urls[i];\n",
       "      const element = document.createElement('script');\n",
       "      element.onload = on_load;\n",
       "      element.onerror = on_error.bind(null, url);\n",
       "      element.async = false;\n",
       "      element.src = url;\n",
       "      if (url in hashes) {\n",
       "        element.crossOrigin = \"anonymous\";\n",
       "        element.integrity = \"sha384-\" + hashes[url];\n",
       "      }\n",
       "      console.debug(\"Bokeh: injecting script tag for BokehJS library: \", url);\n",
       "      document.head.appendChild(element);\n",
       "    }\n",
       "  };\n",
       "\n",
       "  function inject_raw_css(css) {\n",
       "    const element = document.createElement(\"style\");\n",
       "    element.appendChild(document.createTextNode(css));\n",
       "    document.body.appendChild(element);\n",
       "  }\n",
       "\n",
       "  \n",
       "  var js_urls = [\"https://cdn.bokeh.org/bokeh/release/bokeh-2.3.1.min.js\", \"https://cdn.bokeh.org/bokeh/release/bokeh-widgets-2.3.1.min.js\", \"https://cdn.bokeh.org/bokeh/release/bokeh-tables-2.3.1.min.js\"];\n",
       "  var css_urls = [];\n",
       "  \n",
       "\n",
       "  var inline_js = [\n",
       "    function(Bokeh) {\n",
       "      Bokeh.set_log_level(\"info\");\n",
       "    },\n",
       "    function(Bokeh) {\n",
       "    \n",
       "    \n",
       "    }\n",
       "  ];\n",
       "\n",
       "  function run_inline_js() {\n",
       "    \n",
       "    if (root.Bokeh !== undefined || force === true) {\n",
       "      \n",
       "    for (var i = 0; i < inline_js.length; i++) {\n",
       "      inline_js[i].call(root, root.Bokeh);\n",
       "    }\n",
       "    } else if (Date.now() < root._bokeh_timeout) {\n",
       "      setTimeout(run_inline_js, 100);\n",
       "    } else if (!root._bokeh_failed_load) {\n",
       "      console.log(\"Bokeh: BokehJS failed to load within specified timeout.\");\n",
       "      root._bokeh_failed_load = true;\n",
       "    } else if (force !== true) {\n",
       "      var cell = $(document.getElementById(null)).parents('.cell').data().cell;\n",
       "      cell.output_area.append_execute_result(NB_LOAD_WARNING)\n",
       "    }\n",
       "\n",
       "  }\n",
       "\n",
       "  if (root._bokeh_is_loading === 0) {\n",
       "    console.debug(\"Bokeh: BokehJS loaded, going straight to plotting\");\n",
       "    run_inline_js();\n",
       "  } else {\n",
       "    load_libs(css_urls, js_urls, function() {\n",
       "      console.debug(\"Bokeh: BokehJS plotting callback run at\", now());\n",
       "      run_inline_js();\n",
       "    });\n",
       "  }\n",
       "}(window));"
      ],
      "application/vnd.bokehjs_load.v0+json": "\n(function(root) {\n  function now() {\n    return new Date();\n  }\n\n  var force = true;\n\n  if (typeof root._bokeh_onload_callbacks === \"undefined\" || force === true) {\n    root._bokeh_onload_callbacks = [];\n    root._bokeh_is_loading = undefined;\n  }\n\n  \n\n  \n  if (typeof (root._bokeh_timeout) === \"undefined\" || force === true) {\n    root._bokeh_timeout = Date.now() + 5000;\n    root._bokeh_failed_load = false;\n  }\n\n  var NB_LOAD_WARNING = {'data': {'text/html':\n     \"<div style='background-color: #fdd'>\\n\"+\n     \"<p>\\n\"+\n     \"BokehJS does not appear to have successfully loaded. If loading BokehJS from CDN, this \\n\"+\n     \"may be due to a slow or bad network connection. Possible fixes:\\n\"+\n     \"</p>\\n\"+\n     \"<ul>\\n\"+\n     \"<li>re-rerun `output_notebook()` to attempt to load from CDN again, or</li>\\n\"+\n     \"<li>use INLINE resources instead, as so:</li>\\n\"+\n     \"</ul>\\n\"+\n     \"<code>\\n\"+\n     \"from bokeh.resources import INLINE\\n\"+\n     \"output_notebook(resources=INLINE)\\n\"+\n     \"</code>\\n\"+\n     \"</div>\"}};\n\n  function display_loaded() {\n    var el = document.getElementById(null);\n    if (el != null) {\n      el.textContent = \"BokehJS is loading...\";\n    }\n    if (root.Bokeh !== undefined) {\n      if (el != null) {\n        el.textContent = \"BokehJS \" + root.Bokeh.version + \" successfully loaded.\";\n      }\n    } else if (Date.now() < root._bokeh_timeout) {\n      setTimeout(display_loaded, 100)\n    }\n  }\n\n\n  function run_callbacks() {\n    try {\n      root._bokeh_onload_callbacks.forEach(function(callback) {\n        if (callback != null)\n          callback();\n      });\n    } finally {\n      delete root._bokeh_onload_callbacks\n    }\n    console.debug(\"Bokeh: all callbacks have finished\");\n  }\n\n  function load_libs(css_urls, js_urls, callback) {\n    if (css_urls == null) css_urls = [];\n    if (js_urls == null) js_urls = [];\n\n    root._bokeh_onload_callbacks.push(callback);\n    if (root._bokeh_is_loading > 0) {\n      console.debug(\"Bokeh: BokehJS is being loaded, scheduling callback at\", now());\n      return null;\n    }\n    if (js_urls == null || js_urls.length === 0) {\n      run_callbacks();\n      return null;\n    }\n    console.debug(\"Bokeh: BokehJS not loaded, scheduling load and callback at\", now());\n    root._bokeh_is_loading = css_urls.length + js_urls.length;\n\n    function on_load() {\n      root._bokeh_is_loading--;\n      if (root._bokeh_is_loading === 0) {\n        console.debug(\"Bokeh: all BokehJS libraries/stylesheets loaded\");\n        run_callbacks()\n      }\n    }\n\n    function on_error(url) {\n      console.error(\"failed to load \" + url);\n    }\n\n    for (let i = 0; i < css_urls.length; i++) {\n      const url = css_urls[i];\n      const element = document.createElement(\"link\");\n      element.onload = on_load;\n      element.onerror = on_error.bind(null, url);\n      element.rel = \"stylesheet\";\n      element.type = \"text/css\";\n      element.href = url;\n      console.debug(\"Bokeh: injecting link tag for BokehJS stylesheet: \", url);\n      document.body.appendChild(element);\n    }\n\n    const hashes = {\"https://cdn.bokeh.org/bokeh/release/bokeh-2.3.1.min.js\": \"YF85VygJKMVnHE+lLv2AM93Vbstr0yo2TbIu5v8se5Rq3UQAUmcuh4aaJwNlpKwa\", \"https://cdn.bokeh.org/bokeh/release/bokeh-widgets-2.3.1.min.js\": \"KKuas3gevv3PvrlkyCMzffFeaMq5we/a2QsP5AUoS3mJ0jmaCL7jirFJN3GoE/lM\", \"https://cdn.bokeh.org/bokeh/release/bokeh-tables-2.3.1.min.js\": \"MK/uFc3YT18pkvvXRl66tTHjP0/dxoSH2e/eiNMFIguKlun2+WVqaPTWmUy/zvh4\"};\n\n    for (let i = 0; i < js_urls.length; i++) {\n      const url = js_urls[i];\n      const element = document.createElement('script');\n      element.onload = on_load;\n      element.onerror = on_error.bind(null, url);\n      element.async = false;\n      element.src = url;\n      if (url in hashes) {\n        element.crossOrigin = \"anonymous\";\n        element.integrity = \"sha384-\" + hashes[url];\n      }\n      console.debug(\"Bokeh: injecting script tag for BokehJS library: \", url);\n      document.head.appendChild(element);\n    }\n  };\n\n  function inject_raw_css(css) {\n    const element = document.createElement(\"style\");\n    element.appendChild(document.createTextNode(css));\n    document.body.appendChild(element);\n  }\n\n  \n  var js_urls = [\"https://cdn.bokeh.org/bokeh/release/bokeh-2.3.1.min.js\", \"https://cdn.bokeh.org/bokeh/release/bokeh-widgets-2.3.1.min.js\", \"https://cdn.bokeh.org/bokeh/release/bokeh-tables-2.3.1.min.js\"];\n  var css_urls = [];\n  \n\n  var inline_js = [\n    function(Bokeh) {\n      Bokeh.set_log_level(\"info\");\n    },\n    function(Bokeh) {\n    \n    \n    }\n  ];\n\n  function run_inline_js() {\n    \n    if (root.Bokeh !== undefined || force === true) {\n      \n    for (var i = 0; i < inline_js.length; i++) {\n      inline_js[i].call(root, root.Bokeh);\n    }\n    } else if (Date.now() < root._bokeh_timeout) {\n      setTimeout(run_inline_js, 100);\n    } else if (!root._bokeh_failed_load) {\n      console.log(\"Bokeh: BokehJS failed to load within specified timeout.\");\n      root._bokeh_failed_load = true;\n    } else if (force !== true) {\n      var cell = $(document.getElementById(null)).parents('.cell').data().cell;\n      cell.output_area.append_execute_result(NB_LOAD_WARNING)\n    }\n\n  }\n\n  if (root._bokeh_is_loading === 0) {\n    console.debug(\"Bokeh: BokehJS loaded, going straight to plotting\");\n    run_inline_js();\n  } else {\n    load_libs(css_urls, js_urls, function() {\n      console.debug(\"Bokeh: BokehJS plotting callback run at\", now());\n      run_inline_js();\n    });\n  }\n}(window));"
     },
     "metadata": {},
     "output_type": "display_data"
    }
   ],
   "source": [
    "ag3 = malariagen_data.Ag3()"
   ]
  },
  {
   "cell_type": "code",
   "execution_count": 4,
   "id": "b499fbc6",
   "metadata": {},
   "outputs": [],
   "source": [
    "contig_dict = {\n",
    "    \"2R\": 0, \n",
    "    \"2L\": 1,\n",
    "    \"3R\": 2,\n",
    "    \"3L\": 3,\n",
    "    \"X\" : 4\n",
    "}"
   ]
  },
  {
   "cell_type": "code",
   "execution_count": 7,
   "id": "cf1df06d",
   "metadata": {},
   "outputs": [],
   "source": [
    "aims = \"gamb_vs_colu\"\n",
    "sample_sets = \"AG1000G-UG\""
   ]
  },
  {
   "cell_type": "code",
   "execution_count": 9,
   "id": "8cc5b897",
   "metadata": {},
   "outputs": [],
   "source": [
    "def aim_calls(aims, sample_sets, sample_query=None):\n",
    "    \n",
    "    # contig dict\n",
    "    contig_dict = {\n",
    "    \"2R\": 0, \n",
    "#     \"2L\": 1,\n",
    "#     \"3R\": 2,\n",
    "#     \"3L\": 3,\n",
    "#     \"X\" : 4\n",
    "    }\n",
    "    \n",
    "    # output dict\n",
    "    ds_dict = {}\n",
    "    \n",
    "    # or aim_calls\n",
    "    aim_sites = ag3.aim_sites(aims=aims)\n",
    "    aim_sites = aim_sites.set_index(variants='variant_contig')\n",
    "    \n",
    "    # get calls for each aim\n",
    "    for c in contig_dict:\n",
    "        print(f\"collecting {c} aim calls\")\n",
    "        # aim alleles and positions\n",
    "        ca_sites = aim_sites.sel(variants=contig_dict[c])\n",
    "        ref = ca_sites['variant_allele'][:,0].values\n",
    "        alt = ca_sites['variant_allele'][:,1].values\n",
    "        ca_pos = ca_sites['variant_position'].values\n",
    "        # snps at aim positions\n",
    "        snp_calls = ag3.snp_calls(region=c, sample_sets=sample_sets)\n",
    "        ca_calls = snp_calls.set_index(variants='variant_position')\n",
    "        sel_calls = ca_calls.sel(variants=ca_pos)\n",
    "#         alleles = sel_calls['variant_allele'][:].values\n",
    "#         # map aim/snp alleles\n",
    "#         mapping = allel.create_allele_mapping(ref, alt, alleles)\n",
    "#         gt = allel.GenotypeDaskArray(sel_calls['call_genotype'].data)\n",
    "#         gt_map = gt.map_alleles(mapping)\n",
    "        \n",
    "#         ds_dict[c] = ca_calls.sel(variants=ca_pos)\n",
    "        \n",
    "#     # concat at this point?    \n",
    "#     ds_concat = xarray_concat([ds_dict[c] for c in contig_dict], \"variants\")\n",
    "\n",
    "\n",
    "\n",
    "    aim_calls['call_genotype'] = ((\"variants\", \"samples\", \"ploidy\"), concat_dask_gt)\n",
    "        \n",
    "    return aim_calls"
   ]
  },
  {
   "cell_type": "code",
   "execution_count": 10,
   "id": "b5bda3ca",
   "metadata": {},
   "outputs": [
    {
     "name": "stdout",
     "output_type": "stream",
     "text": [
      "collecting 2R aim calls\n",
      "CPU times: user 6.04 s, sys: 1.93 s, total: 7.97 s\n",
      "Wall time: 11.8 s\n"
     ]
    }
   ],
   "source": [
    "%%time\n",
    "ca_sites, sel_calls = aim_calls(aims=aims, sample_sets=sample_sets)"
   ]
  },
  {
   "cell_type": "code",
   "execution_count": 31,
   "id": "792b17ef",
   "metadata": {},
   "outputs": [],
   "source": [
    "aim_alleles = ca_sites['variant_allele'].values"
   ]
  },
  {
   "cell_type": "code",
   "execution_count": 32,
   "id": "26c2ee87",
   "metadata": {},
   "outputs": [],
   "source": [
    "snp_alleles = sel_calls['variant_allele'][:].values"
   ]
  },
  {
   "cell_type": "code",
   "execution_count": 33,
   "id": "f3e1a1da",
   "metadata": {},
   "outputs": [],
   "source": [
    "snp_ref = snp_alleles[:,0]"
   ]
  },
  {
   "cell_type": "code",
   "execution_count": 34,
   "id": "ec60dd16",
   "metadata": {},
   "outputs": [],
   "source": [
    "snp_alt = snp_alleles[:,1:]"
   ]
  },
  {
   "cell_type": "code",
   "execution_count": 35,
   "id": "efc26ec4",
   "metadata": {},
   "outputs": [],
   "source": [
    "mapping = allel.create_allele_mapping(snp_ref, snp_alt, aim_alleles)"
   ]
  },
  {
   "cell_type": "code",
   "execution_count": 36,
   "id": "d35f1f98",
   "metadata": {},
   "outputs": [
    {
     "data": {
      "text/plain": [
       "array([[ 0, -1, -1,  1],\n",
       "       [ 1,  0, -1, -1],\n",
       "       [ 1, -1, -1,  0],\n",
       "       [ 1, -1,  0, -1],\n",
       "       [ 1, -1, -1,  0],\n",
       "       [ 1, -1, -1,  0],\n",
       "       [ 1, -1, -1,  0],\n",
       "       [ 1,  0, -1, -1],\n",
       "       [ 1, -1, -1,  0],\n",
       "       [ 1, -1, -1,  0],\n",
       "       [ 1,  0, -1, -1],\n",
       "       [ 1, -1, -1,  0],\n",
       "       [ 1, -1,  0, -1],\n",
       "       [ 0, -1,  1, -1],\n",
       "       [ 0, -1,  1, -1],\n",
       "       [ 1, -1, -1,  0],\n",
       "       [ 1, -1, -1,  0],\n",
       "       [ 1, -1,  0, -1],\n",
       "       [ 1, -1, -1,  0],\n",
       "       [ 1, -1,  0, -1],\n",
       "       [ 1, -1, -1,  0],\n",
       "       [ 1, -1,  0, -1],\n",
       "       [ 1, -1, -1,  0],\n",
       "       [ 0, -1, -1,  1],\n",
       "       [ 1,  0, -1, -1],\n",
       "       [ 1, -1, -1,  0],\n",
       "       [ 1, -1,  0, -1],\n",
       "       [ 1, -1,  0, -1],\n",
       "       [ 0, -1,  1, -1],\n",
       "       [ 0, -1,  1, -1],\n",
       "       [ 0, -1,  1, -1],\n",
       "       [ 0, -1,  1, -1],\n",
       "       [ 1, -1,  0, -1],\n",
       "       [ 0, -1, -1,  1],\n",
       "       [ 1, -1, -1,  0],\n",
       "       [ 1,  0, -1, -1],\n",
       "       [ 1, -1,  0, -1],\n",
       "       [ 1,  0, -1, -1],\n",
       "       [ 1, -1,  0, -1],\n",
       "       [ 1, -1, -1,  0],\n",
       "       [ 1, -1, -1,  0],\n",
       "       [ 0, -1, -1,  1],\n",
       "       [ 1, -1,  0, -1],\n",
       "       [ 0, -1, -1,  1],\n",
       "       [ 0, -1,  1, -1],\n",
       "       [ 1, -1, -1,  0],\n",
       "       [ 0, -1, -1,  1],\n",
       "       [ 1, -1, -1,  0],\n",
       "       [ 0, -1,  1, -1],\n",
       "       [ 1, -1, -1,  0],\n",
       "       [ 1, -1, -1,  0],\n",
       "       [ 1,  0, -1, -1],\n",
       "       [ 0, -1, -1,  1],\n",
       "       [ 0, -1,  1, -1],\n",
       "       [ 1, -1,  0, -1],\n",
       "       [ 1, -1,  0, -1],\n",
       "       [ 1, -1,  0, -1],\n",
       "       [ 1, -1,  0, -1]], dtype=int8)"
      ]
     },
     "execution_count": 36,
     "metadata": {},
     "output_type": "execute_result"
    }
   ],
   "source": [
    "mapping"
   ]
  },
  {
   "cell_type": "code",
   "execution_count": 37,
   "id": "732ecafa",
   "metadata": {},
   "outputs": [],
   "source": [
    "gt = allel.GenotypeDaskArray(sel_calls['call_genotype'].data)"
   ]
  },
  {
   "cell_type": "code",
   "execution_count": 38,
   "id": "4d513565",
   "metadata": {},
   "outputs": [
    {
     "data": {
      "text/html": [
       "<div class=\"allel allel-DisplayAs2D\"><span>&lt;GenotypeDaskArray shape=(58, 290, 2) dtype=int8&gt;</span><table><thead><tr><th></th><th style=\"text-align: center\">0</th><th style=\"text-align: center\">1</th><th style=\"text-align: center\">2</th><th style=\"text-align: center\">3</th><th style=\"text-align: center\">4</th><th style=\"text-align: center\">...</th><th style=\"text-align: center\">285</th><th style=\"text-align: center\">286</th><th style=\"text-align: center\">287</th><th style=\"text-align: center\">288</th><th style=\"text-align: center\">289</th></tr></thead><tbody><tr><th style=\"text-align: center; background-color: white; border-right: 1px solid black; \">0</th><td style=\"text-align: center\">3/3</td><td style=\"text-align: center\">3/3</td><td style=\"text-align: center\">0/3</td><td style=\"text-align: center\">3/3</td><td style=\"text-align: center\">3/3</td><td style=\"text-align: center\">...</td><td style=\"text-align: center\">0/0</td><td style=\"text-align: center\">0/0</td><td style=\"text-align: center\">0/0</td><td style=\"text-align: center\">0/3</td><td style=\"text-align: center\">0/0</td></tr><tr><th style=\"text-align: center; background-color: white; border-right: 1px solid black; \">1</th><td style=\"text-align: center\">1/1</td><td style=\"text-align: center\">1/1</td><td style=\"text-align: center\">1/1</td><td style=\"text-align: center\">1/1</td><td style=\"text-align: center\">1/1</td><td style=\"text-align: center\">...</td><td style=\"text-align: center\">1/1</td><td style=\"text-align: center\">1/1</td><td style=\"text-align: center\">1/1</td><td style=\"text-align: center\">1/1</td><td style=\"text-align: center\">1/1</td></tr><tr><th style=\"text-align: center; background-color: white; border-right: 1px solid black; \">2</th><td style=\"text-align: center\">1/3</td><td style=\"text-align: center\">3/3</td><td style=\"text-align: center\">1/1</td><td style=\"text-align: center\">3/3</td><td style=\"text-align: center\">3/3</td><td style=\"text-align: center\">...</td><td style=\"text-align: center\">3/3</td><td style=\"text-align: center\">0/0</td><td style=\"text-align: center\">0/3</td><td style=\"text-align: center\">3/3</td><td style=\"text-align: center\">3/3</td></tr><tr><th style=\"text-align: center; background-color: white; border-right: 1px solid black; \">...</th><td style=\"text-align: center\" colspan=\"12\">...</td></tr><tr><th style=\"text-align: center; background-color: white; border-right: 1px solid black; \">55</th><td style=\"text-align: center\">0/0</td><td style=\"text-align: center\">0/0</td><td style=\"text-align: center\">0/0</td><td style=\"text-align: center\">0/0</td><td style=\"text-align: center\">0/0</td><td style=\"text-align: center\">...</td><td style=\"text-align: center\">2/2</td><td style=\"text-align: center\">2/2</td><td style=\"text-align: center\">2/2</td><td style=\"text-align: center\">2/2</td><td style=\"text-align: center\">2/2</td></tr><tr><th style=\"text-align: center; background-color: white; border-right: 1px solid black; \">56</th><td style=\"text-align: center\">2/2</td><td style=\"text-align: center\">2/2</td><td style=\"text-align: center\">2/2</td><td style=\"text-align: center\">2/2</td><td style=\"text-align: center\">2/2</td><td style=\"text-align: center\">...</td><td style=\"text-align: center\">2/2</td><td style=\"text-align: center\">2/2</td><td style=\"text-align: center\">2/2</td><td style=\"text-align: center\">2/2</td><td style=\"text-align: center\">2/2</td></tr><tr><th style=\"text-align: center; background-color: white; border-right: 1px solid black; \">57</th><td style=\"text-align: center\">2/2</td><td style=\"text-align: center\">2/2</td><td style=\"text-align: center\">2/2</td><td style=\"text-align: center\">2/2</td><td style=\"text-align: center\">2/2</td><td style=\"text-align: center\">...</td><td style=\"text-align: center\">2/2</td><td style=\"text-align: center\">2/2</td><td style=\"text-align: center\">2/2</td><td style=\"text-align: center\">2/2</td><td style=\"text-align: center\">2/2</td></tr></tbody></table></div>"
      ],
      "text/plain": [
       "<GenotypeDaskArray shape=(58, 290, 2) dtype=int8>"
      ]
     },
     "execution_count": 38,
     "metadata": {},
     "output_type": "execute_result"
    }
   ],
   "source": [
    "gt"
   ]
  },
  {
   "cell_type": "code",
   "execution_count": 39,
   "id": "0d7196f2",
   "metadata": {},
   "outputs": [
    {
     "data": {
      "text/html": [
       "<div class=\"allel allel-DisplayAs2D\"><span>&lt;GenotypeDaskArray shape=(58, 290, 2) dtype=int8&gt;</span><table><thead><tr><th></th><th style=\"text-align: center\">0</th><th style=\"text-align: center\">1</th><th style=\"text-align: center\">2</th><th style=\"text-align: center\">3</th><th style=\"text-align: center\">4</th><th style=\"text-align: center\">...</th><th style=\"text-align: center\">285</th><th style=\"text-align: center\">286</th><th style=\"text-align: center\">287</th><th style=\"text-align: center\">288</th><th style=\"text-align: center\">289</th></tr></thead><tbody><tr><th style=\"text-align: center; background-color: white; border-right: 1px solid black; \">0</th><td style=\"text-align: center\">1/1</td><td style=\"text-align: center\">1/1</td><td style=\"text-align: center\">0/1</td><td style=\"text-align: center\">1/1</td><td style=\"text-align: center\">1/1</td><td style=\"text-align: center\">...</td><td style=\"text-align: center\">0/0</td><td style=\"text-align: center\">0/0</td><td style=\"text-align: center\">0/0</td><td style=\"text-align: center\">0/1</td><td style=\"text-align: center\">0/0</td></tr><tr><th style=\"text-align: center; background-color: white; border-right: 1px solid black; \">1</th><td style=\"text-align: center\">0/0</td><td style=\"text-align: center\">0/0</td><td style=\"text-align: center\">0/0</td><td style=\"text-align: center\">0/0</td><td style=\"text-align: center\">0/0</td><td style=\"text-align: center\">...</td><td style=\"text-align: center\">0/0</td><td style=\"text-align: center\">0/0</td><td style=\"text-align: center\">0/0</td><td style=\"text-align: center\">0/0</td><td style=\"text-align: center\">0/0</td></tr><tr><th style=\"text-align: center; background-color: white; border-right: 1px solid black; \">2</th><td style=\"text-align: center\">./0</td><td style=\"text-align: center\">0/0</td><td style=\"text-align: center\">./.</td><td style=\"text-align: center\">0/0</td><td style=\"text-align: center\">0/0</td><td style=\"text-align: center\">...</td><td style=\"text-align: center\">0/0</td><td style=\"text-align: center\">1/1</td><td style=\"text-align: center\">1/0</td><td style=\"text-align: center\">0/0</td><td style=\"text-align: center\">0/0</td></tr><tr><th style=\"text-align: center; background-color: white; border-right: 1px solid black; \">...</th><td style=\"text-align: center\" colspan=\"12\">...</td></tr><tr><th style=\"text-align: center; background-color: white; border-right: 1px solid black; \">55</th><td style=\"text-align: center\">1/1</td><td style=\"text-align: center\">1/1</td><td style=\"text-align: center\">1/1</td><td style=\"text-align: center\">1/1</td><td style=\"text-align: center\">1/1</td><td style=\"text-align: center\">...</td><td style=\"text-align: center\">0/0</td><td style=\"text-align: center\">0/0</td><td style=\"text-align: center\">0/0</td><td style=\"text-align: center\">0/0</td><td style=\"text-align: center\">0/0</td></tr><tr><th style=\"text-align: center; background-color: white; border-right: 1px solid black; \">56</th><td style=\"text-align: center\">0/0</td><td style=\"text-align: center\">0/0</td><td style=\"text-align: center\">0/0</td><td style=\"text-align: center\">0/0</td><td style=\"text-align: center\">0/0</td><td style=\"text-align: center\">...</td><td style=\"text-align: center\">0/0</td><td style=\"text-align: center\">0/0</td><td style=\"text-align: center\">0/0</td><td style=\"text-align: center\">0/0</td><td style=\"text-align: center\">0/0</td></tr><tr><th style=\"text-align: center; background-color: white; border-right: 1px solid black; \">57</th><td style=\"text-align: center\">0/0</td><td style=\"text-align: center\">0/0</td><td style=\"text-align: center\">0/0</td><td style=\"text-align: center\">0/0</td><td style=\"text-align: center\">0/0</td><td style=\"text-align: center\">...</td><td style=\"text-align: center\">0/0</td><td style=\"text-align: center\">0/0</td><td style=\"text-align: center\">0/0</td><td style=\"text-align: center\">0/0</td><td style=\"text-align: center\">0/0</td></tr></tbody></table></div>"
      ],
      "text/plain": [
       "<GenotypeDaskArray shape=(58, 290, 2) dtype=int8>"
      ]
     },
     "execution_count": 39,
     "metadata": {},
     "output_type": "execute_result"
    }
   ],
   "source": [
    "gt_map = gt.map_alleles(mapping)\n",
    "gt_map"
   ]
  },
  {
   "cell_type": "code",
   "execution_count": null,
   "id": "5410ba2d",
   "metadata": {},
   "outputs": [],
   "source": []
  },
  {
   "cell_type": "code",
   "execution_count": 49,
   "id": "d9e6b3b9",
   "metadata": {},
   "outputs": [
    {
     "data": {
      "text/plain": [
       "dask.array.core.Array"
      ]
     },
     "execution_count": 49,
     "metadata": {},
     "output_type": "execute_result"
    }
   ],
   "source": [
    "type(gt_map.values)"
   ]
  },
  {
   "cell_type": "code",
   "execution_count": null,
   "id": "eaf9b595",
   "metadata": {},
   "outputs": [],
   "source": [
    "dask_concat([gt_map.data, ...,..])"
   ]
  },
  {
   "cell_type": "code",
   "execution_count": 47,
   "id": "944c5bd6",
   "metadata": {},
   "outputs": [
    {
     "ename": "NameError",
     "evalue": "name 'dask_concat' is not defined",
     "output_type": "error",
     "traceback": [
      "\u001b[0;31m---------------------------------------------------------------------------\u001b[0m",
      "\u001b[0;31mNameError\u001b[0m                                 Traceback (most recent call last)",
      "\u001b[0;32m<ipython-input-47-b5f7ec95ed68>\u001b[0m in \u001b[0;36m<module>\u001b[0;34m\u001b[0m\n\u001b[0;32m----> 1\u001b[0;31m \u001b[0mdask_concat\u001b[0m\u001b[0;34m(\u001b[0m\u001b[0;34m)\u001b[0m\u001b[0;34m\u001b[0m\u001b[0;34m\u001b[0m\u001b[0m\n\u001b[0m",
      "\u001b[0;31mNameError\u001b[0m: name 'dask_concat' is not defined"
     ]
    }
   ],
   "source": [
    "dask_concat()"
   ]
  },
  {
   "cell_type": "code",
   "execution_count": null,
   "id": "af0dc1fe",
   "metadata": {},
   "outputs": [],
   "source": []
  },
  {
   "cell_type": "code",
   "execution_count": null,
   "id": "da5bd34c",
   "metadata": {},
   "outputs": [],
   "source": []
  },
  {
   "cell_type": "code",
   "execution_count": 11,
   "id": "f8770240",
   "metadata": {},
   "outputs": [],
   "source": [
    "ref = ca_sites['variant_allele'][:,0].values"
   ]
  },
  {
   "cell_type": "code",
   "execution_count": 12,
   "id": "1fc147c6",
   "metadata": {},
   "outputs": [],
   "source": [
    "alt = ca_sites['variant_allele'][:,1].values"
   ]
  },
  {
   "cell_type": "code",
   "execution_count": 13,
   "id": "59b37185",
   "metadata": {},
   "outputs": [],
   "source": [
    "alleles = sel_calls['variant_allele'][:].values"
   ]
  },
  {
   "cell_type": "code",
   "execution_count": 14,
   "id": "e5a46a44",
   "metadata": {},
   "outputs": [
    {
     "data": {
      "text/plain": [
       "array([b'A', b'C', b'G', b'T', b'G', b'G', b'G', b'C', b'T', b'G', b'C',\n",
       "       b'G', b'T', b'C', b'A', b'G', b'G', b'T', b'G', b'T', b'G', b'T',\n",
       "       b'T', b'A', b'C', b'G', b'T', b'T', b'C', b'C', b'C', b'A', b'T',\n",
       "       b'A', b'G', b'C', b'T', b'C', b'T', b'T', b'G', b'A', b'T', b'G',\n",
       "       b'A', b'G', b'C', b'T', b'C', b'T', b'G', b'C', b'A', b'C', b'T',\n",
       "       b'T', b'T', b'T'], dtype='|S1')"
      ]
     },
     "execution_count": 14,
     "metadata": {},
     "output_type": "execute_result"
    }
   ],
   "source": [
    "ref"
   ]
  },
  {
   "cell_type": "code",
   "execution_count": 15,
   "id": "5035b53a",
   "metadata": {},
   "outputs": [
    {
     "data": {
      "text/plain": [
       "array([b'G', b'A', b'A', b'A', b'A', b'A', b'A', b'A', b'G', b'A', b'A',\n",
       "       b'A', b'C', b'T', b'T', b'A', b'A', b'A', b'C', b'C', b'A', b'C',\n",
       "       b'G', b'G', b'A', b'C', b'A', b'A', b'T', b'T', b'T', b'T', b'A',\n",
       "       b'G', b'A', b'A', b'C', b'A', b'C', b'G', b'A', b'G', b'A', b'T',\n",
       "       b'T', b'A', b'G', b'G', b'T', b'G', b'C', b'A', b'G', b'T', b'A',\n",
       "       b'C', b'C', b'A'], dtype='|S1')"
      ]
     },
     "execution_count": 15,
     "metadata": {},
     "output_type": "execute_result"
    }
   ],
   "source": [
    "alt"
   ]
  },
  {
   "cell_type": "code",
   "execution_count": 16,
   "id": "fbce1b5f",
   "metadata": {},
   "outputs": [
    {
     "data": {
      "text/plain": [
       "array([[b'A', b'C', b'T', b'G'],\n",
       "       [b'A', b'C', b'T', b'G'],\n",
       "       [b'A', b'C', b'T', b'G'],\n",
       "       [b'A', b'C', b'T', b'G'],\n",
       "       [b'A', b'C', b'T', b'G'],\n",
       "       [b'A', b'C', b'T', b'G'],\n",
       "       [b'A', b'C', b'T', b'G'],\n",
       "       [b'A', b'C', b'T', b'G'],\n",
       "       [b'G', b'A', b'C', b'T'],\n",
       "       [b'A', b'C', b'T', b'G'],\n",
       "       [b'A', b'C', b'T', b'G'],\n",
       "       [b'A', b'C', b'T', b'G'],\n",
       "       [b'C', b'A', b'T', b'G'],\n",
       "       [b'C', b'A', b'T', b'G'],\n",
       "       [b'A', b'C', b'T', b'G'],\n",
       "       [b'A', b'C', b'T', b'G'],\n",
       "       [b'A', b'C', b'T', b'G'],\n",
       "       [b'A', b'C', b'T', b'G'],\n",
       "       [b'C', b'A', b'T', b'G'],\n",
       "       [b'C', b'A', b'T', b'G'],\n",
       "       [b'A', b'C', b'T', b'G'],\n",
       "       [b'C', b'A', b'T', b'G'],\n",
       "       [b'G', b'A', b'C', b'T'],\n",
       "       [b'A', b'C', b'T', b'G'],\n",
       "       [b'A', b'C', b'T', b'G'],\n",
       "       [b'C', b'A', b'T', b'G'],\n",
       "       [b'A', b'C', b'T', b'G'],\n",
       "       [b'A', b'C', b'T', b'G'],\n",
       "       [b'C', b'A', b'T', b'G'],\n",
       "       [b'C', b'A', b'T', b'G'],\n",
       "       [b'C', b'A', b'T', b'G'],\n",
       "       [b'A', b'C', b'T', b'G'],\n",
       "       [b'A', b'C', b'T', b'G'],\n",
       "       [b'A', b'C', b'T', b'G'],\n",
       "       [b'A', b'C', b'T', b'G'],\n",
       "       [b'A', b'C', b'T', b'G'],\n",
       "       [b'C', b'A', b'T', b'G'],\n",
       "       [b'A', b'C', b'T', b'G'],\n",
       "       [b'C', b'A', b'T', b'G'],\n",
       "       [b'G', b'A', b'C', b'T'],\n",
       "       [b'A', b'C', b'T', b'G'],\n",
       "       [b'A', b'C', b'T', b'G'],\n",
       "       [b'A', b'C', b'T', b'G'],\n",
       "       [b'G', b'A', b'C', b'T'],\n",
       "       [b'A', b'C', b'T', b'G'],\n",
       "       [b'A', b'C', b'T', b'G'],\n",
       "       [b'C', b'A', b'T', b'G'],\n",
       "       [b'G', b'A', b'C', b'T'],\n",
       "       [b'C', b'A', b'T', b'G'],\n",
       "       [b'G', b'A', b'C', b'T'],\n",
       "       [b'C', b'A', b'T', b'G'],\n",
       "       [b'A', b'C', b'T', b'G'],\n",
       "       [b'A', b'C', b'T', b'G'],\n",
       "       [b'C', b'A', b'T', b'G'],\n",
       "       [b'A', b'C', b'T', b'G'],\n",
       "       [b'C', b'A', b'T', b'G'],\n",
       "       [b'C', b'A', b'T', b'G'],\n",
       "       [b'A', b'C', b'T', b'G']], dtype='|S1')"
      ]
     },
     "execution_count": 16,
     "metadata": {},
     "output_type": "execute_result"
    }
   ],
   "source": [
    "alleles"
   ]
  },
  {
   "cell_type": "code",
   "execution_count": 17,
   "id": "53d4c3e4",
   "metadata": {},
   "outputs": [
    {
     "data": {
      "text/plain": [
       "58"
      ]
     },
     "execution_count": 17,
     "metadata": {},
     "output_type": "execute_result"
    }
   ],
   "source": [
    "len(alt)"
   ]
  },
  {
   "cell_type": "code",
   "execution_count": 15,
   "id": "84b4838a",
   "metadata": {},
   "outputs": [],
   "source": [
    "mapping = allel.create_allele_mapping(alleles, )"
   ]
  },
  {
   "cell_type": "code",
   "execution_count": 16,
   "id": "4e8b717d",
   "metadata": {},
   "outputs": [
    {
     "data": {
      "text/plain": [
       "array([[0, 3],\n",
       "       [1, 0],\n",
       "       [3, 0],\n",
       "       [2, 0],\n",
       "       [3, 0],\n",
       "       [3, 0],\n",
       "       [3, 0],\n",
       "       [1, 0],\n",
       "       [3, 0],\n",
       "       [3, 0],\n",
       "       [1, 0],\n",
       "       [3, 0],\n",
       "       [2, 0],\n",
       "       [0, 2],\n",
       "       [0, 2],\n",
       "       [3, 0],\n",
       "       [3, 0],\n",
       "       [2, 0],\n",
       "       [3, 0],\n",
       "       [2, 0],\n",
       "       [3, 0],\n",
       "       [2, 0],\n",
       "       [3, 0],\n",
       "       [0, 3],\n",
       "       [1, 0],\n",
       "       [3, 0],\n",
       "       [2, 0],\n",
       "       [2, 0],\n",
       "       [0, 2],\n",
       "       [0, 2],\n",
       "       [0, 2],\n",
       "       [0, 2],\n",
       "       [2, 0],\n",
       "       [0, 3],\n",
       "       [3, 0],\n",
       "       [1, 0],\n",
       "       [2, 0],\n",
       "       [1, 0],\n",
       "       [2, 0],\n",
       "       [3, 0],\n",
       "       [3, 0],\n",
       "       [0, 3],\n",
       "       [2, 0],\n",
       "       [0, 3],\n",
       "       [0, 2],\n",
       "       [3, 0],\n",
       "       [0, 3],\n",
       "       [3, 0],\n",
       "       [0, 2],\n",
       "       [3, 0],\n",
       "       [3, 0],\n",
       "       [1, 0],\n",
       "       [0, 3],\n",
       "       [0, 2],\n",
       "       [2, 0],\n",
       "       [2, 0],\n",
       "       [2, 0],\n",
       "       [2, 0]], dtype=int8)"
      ]
     },
     "execution_count": 16,
     "metadata": {},
     "output_type": "execute_result"
    }
   ],
   "source": [
    "mapping"
   ]
  },
  {
   "cell_type": "code",
   "execution_count": 17,
   "id": "3237c590",
   "metadata": {},
   "outputs": [],
   "source": [
    "gt = allel.GenotypeDaskArray(sel_calls['call_genotype'].data)"
   ]
  },
  {
   "cell_type": "code",
   "execution_count": 18,
   "id": "68497e6e",
   "metadata": {},
   "outputs": [
    {
     "data": {
      "text/html": [
       "<div class=\"allel allel-DisplayAs2D\"><span>&lt;GenotypeDaskArray shape=(10, 10, 2) dtype=int8&gt;</span><table><thead><tr><th></th><th style=\"text-align: center\">0</th><th style=\"text-align: center\">1</th><th style=\"text-align: center\">2</th><th style=\"text-align: center\">3</th><th style=\"text-align: center\">4</th><th style=\"text-align: center\">5</th><th style=\"text-align: center\">6</th><th style=\"text-align: center\">7</th><th style=\"text-align: center\">8</th><th style=\"text-align: center\">9</th></tr></thead><tbody><tr><th style=\"text-align: center; background-color: white; border-right: 1px solid black; \">0</th><td style=\"text-align: center\">3/3</td><td style=\"text-align: center\">3/3</td><td style=\"text-align: center\">0/3</td><td style=\"text-align: center\">3/3</td><td style=\"text-align: center\">3/3</td><td style=\"text-align: center\">3/3</td><td style=\"text-align: center\">3/3</td><td style=\"text-align: center\">3/3</td><td style=\"text-align: center\">3/3</td><td style=\"text-align: center\">3/3</td></tr><tr><th style=\"text-align: center; background-color: white; border-right: 1px solid black; \">1</th><td style=\"text-align: center\">1/1</td><td style=\"text-align: center\">1/1</td><td style=\"text-align: center\">1/1</td><td style=\"text-align: center\">1/1</td><td style=\"text-align: center\">1/1</td><td style=\"text-align: center\">1/1</td><td style=\"text-align: center\">1/1</td><td style=\"text-align: center\">0/1</td><td style=\"text-align: center\">1/1</td><td style=\"text-align: center\">1/1</td></tr><tr><th style=\"text-align: center; background-color: white; border-right: 1px solid black; \">2</th><td style=\"text-align: center\">1/3</td><td style=\"text-align: center\">3/3</td><td style=\"text-align: center\">1/1</td><td style=\"text-align: center\">3/3</td><td style=\"text-align: center\">3/3</td><td style=\"text-align: center\">3/3</td><td style=\"text-align: center\">3/3</td><td style=\"text-align: center\">3/3</td><td style=\"text-align: center\">3/3</td><td style=\"text-align: center\">1/3</td></tr><tr><th style=\"text-align: center; background-color: white; border-right: 1px solid black; \">...</th><td style=\"text-align: center\" colspan=\"11\">...</td></tr><tr><th style=\"text-align: center; background-color: white; border-right: 1px solid black; \">7</th><td style=\"text-align: center\">1/1</td><td style=\"text-align: center\">1/1</td><td style=\"text-align: center\">1/2</td><td style=\"text-align: center\">1/1</td><td style=\"text-align: center\">1/1</td><td style=\"text-align: center\">1/1</td><td style=\"text-align: center\">1/1</td><td style=\"text-align: center\">1/2</td><td style=\"text-align: center\">1/1</td><td style=\"text-align: center\">1/1</td></tr><tr><th style=\"text-align: center; background-color: white; border-right: 1px solid black; \">8</th><td style=\"text-align: center\">3/3</td><td style=\"text-align: center\">3/3</td><td style=\"text-align: center\">3/3</td><td style=\"text-align: center\">3/3</td><td style=\"text-align: center\">3/3</td><td style=\"text-align: center\">3/3</td><td style=\"text-align: center\">3/3</td><td style=\"text-align: center\">3/3</td><td style=\"text-align: center\">3/3</td><td style=\"text-align: center\">3/3</td></tr><tr><th style=\"text-align: center; background-color: white; border-right: 1px solid black; \">9</th><td style=\"text-align: center\">3/3</td><td style=\"text-align: center\">3/3</td><td style=\"text-align: center\">3/3</td><td style=\"text-align: center\">3/3</td><td style=\"text-align: center\">3/3</td><td style=\"text-align: center\">3/3</td><td style=\"text-align: center\">3/3</td><td style=\"text-align: center\">3/3</td><td style=\"text-align: center\">3/3</td><td style=\"text-align: center\">3/3</td></tr></tbody></table></div>"
      ],
      "text/plain": [
       "<GenotypeDaskArray shape=(10, 10, 2) dtype=int8>"
      ]
     },
     "execution_count": 18,
     "metadata": {},
     "output_type": "execute_result"
    }
   ],
   "source": [
    "gt[:10,:10]"
   ]
  },
  {
   "cell_type": "code",
   "execution_count": 19,
   "id": "11e62078",
   "metadata": {},
   "outputs": [],
   "source": [
    "gt_map = gt.map_alleles(mapping)"
   ]
  },
  {
   "cell_type": "code",
   "execution_count": 20,
   "id": "74c14242",
   "metadata": {},
   "outputs": [
    {
     "data": {
      "text/html": [
       "<div class=\"allel allel-DisplayAs2D\"><span>&lt;GenotypeDaskArray shape=(10, 10, 2) dtype=int8&gt;</span><table><thead><tr><th></th><th style=\"text-align: center\">0</th><th style=\"text-align: center\">1</th><th style=\"text-align: center\">2</th><th style=\"text-align: center\">3</th><th style=\"text-align: center\">4</th><th style=\"text-align: center\">5</th><th style=\"text-align: center\">6</th><th style=\"text-align: center\">7</th><th style=\"text-align: center\">8</th><th style=\"text-align: center\">9</th></tr></thead><tbody><tr><th style=\"text-align: center; background-color: white; border-right: 1px solid black; \">0</th><td style=\"text-align: center\">./.</td><td style=\"text-align: center\">./.</td><td style=\"text-align: center\">0/.</td><td style=\"text-align: center\">./.</td><td style=\"text-align: center\">./.</td><td style=\"text-align: center\">./.</td><td style=\"text-align: center\">./.</td><td style=\"text-align: center\">./.</td><td style=\"text-align: center\">./.</td><td style=\"text-align: center\">./.</td></tr><tr><th style=\"text-align: center; background-color: white; border-right: 1px solid black; \">1</th><td style=\"text-align: center\">0/0</td><td style=\"text-align: center\">0/0</td><td style=\"text-align: center\">0/0</td><td style=\"text-align: center\">0/0</td><td style=\"text-align: center\">0/0</td><td style=\"text-align: center\">0/0</td><td style=\"text-align: center\">0/0</td><td style=\"text-align: center\">1/0</td><td style=\"text-align: center\">0/0</td><td style=\"text-align: center\">0/0</td></tr><tr><th style=\"text-align: center; background-color: white; border-right: 1px solid black; \">2</th><td style=\"text-align: center\">0/.</td><td style=\"text-align: center\">./.</td><td style=\"text-align: center\">0/0</td><td style=\"text-align: center\">./.</td><td style=\"text-align: center\">./.</td><td style=\"text-align: center\">./.</td><td style=\"text-align: center\">./.</td><td style=\"text-align: center\">./.</td><td style=\"text-align: center\">./.</td><td style=\"text-align: center\">0/.</td></tr><tr><th style=\"text-align: center; background-color: white; border-right: 1px solid black; \">...</th><td style=\"text-align: center\" colspan=\"11\">...</td></tr><tr><th style=\"text-align: center; background-color: white; border-right: 1px solid black; \">7</th><td style=\"text-align: center\">0/0</td><td style=\"text-align: center\">0/0</td><td style=\"text-align: center\">0/.</td><td style=\"text-align: center\">0/0</td><td style=\"text-align: center\">0/0</td><td style=\"text-align: center\">0/0</td><td style=\"text-align: center\">0/0</td><td style=\"text-align: center\">0/.</td><td style=\"text-align: center\">0/0</td><td style=\"text-align: center\">0/0</td></tr><tr><th style=\"text-align: center; background-color: white; border-right: 1px solid black; \">8</th><td style=\"text-align: center\">./.</td><td style=\"text-align: center\">./.</td><td style=\"text-align: center\">./.</td><td style=\"text-align: center\">./.</td><td style=\"text-align: center\">./.</td><td style=\"text-align: center\">./.</td><td style=\"text-align: center\">./.</td><td style=\"text-align: center\">./.</td><td style=\"text-align: center\">./.</td><td style=\"text-align: center\">./.</td></tr><tr><th style=\"text-align: center; background-color: white; border-right: 1px solid black; \">9</th><td style=\"text-align: center\">./.</td><td style=\"text-align: center\">./.</td><td style=\"text-align: center\">./.</td><td style=\"text-align: center\">./.</td><td style=\"text-align: center\">./.</td><td style=\"text-align: center\">./.</td><td style=\"text-align: center\">./.</td><td style=\"text-align: center\">./.</td><td style=\"text-align: center\">./.</td><td style=\"text-align: center\">./.</td></tr></tbody></table></div>"
      ],
      "text/plain": [
       "<GenotypeDaskArray shape=(10, 10, 2) dtype=int8>"
      ]
     },
     "execution_count": 20,
     "metadata": {},
     "output_type": "execute_result"
    }
   ],
   "source": [
    "gt_map[:10,:10]"
   ]
  },
  {
   "cell_type": "code",
   "execution_count": null,
   "id": "3fd23e28",
   "metadata": {},
   "outputs": [],
   "source": []
  },
  {
   "cell_type": "code",
   "execution_count": null,
   "id": "c44111c2",
   "metadata": {},
   "outputs": [],
   "source": []
  },
  {
   "cell_type": "code",
   "execution_count": null,
   "id": "e748e05c",
   "metadata": {},
   "outputs": [],
   "source": [
    "snp_calls = ag3.snp_calls(region='2R', sample_sets=\"3.0\")"
   ]
  },
  {
   "cell_type": "code",
   "execution_count": null,
   "id": "4dc98751",
   "metadata": {},
   "outputs": [],
   "source": [
    "snp_calls['variant_allele'][:1,:5].values"
   ]
  },
  {
   "cell_type": "code",
   "execution_count": null,
   "id": "b9f2e00e",
   "metadata": {},
   "outputs": [],
   "source": [
    "aims = \"gamb_vs_colu\"\n",
    "sample_sets = \"AG1000G-UG\""
   ]
  },
  {
   "cell_type": "code",
   "execution_count": null,
   "id": "aca2ec59",
   "metadata": {},
   "outputs": [],
   "source": [
    "aim_sites = ag3.aim_sites(aims=aims)"
   ]
  },
  {
   "cell_type": "code",
   "execution_count": null,
   "id": "a42eab5f",
   "metadata": {},
   "outputs": [],
   "source": [
    "aim_sites"
   ]
  },
  {
   "cell_type": "code",
   "execution_count": null,
   "id": "b2a4319d",
   "metadata": {},
   "outputs": [],
   "source": [
    "aim_sites = aim_sites.set_index(variants='variant_contig')"
   ]
  },
  {
   "cell_type": "code",
   "execution_count": null,
   "id": "d066b108",
   "metadata": {},
   "outputs": [],
   "source": [
    "ag3"
   ]
  },
  {
   "cell_type": "code",
   "execution_count": null,
   "id": "690d31b7",
   "metadata": {},
   "outputs": [],
   "source": []
  },
  {
   "cell_type": "code",
   "execution_count": null,
   "id": "3a3728d2",
   "metadata": {},
   "outputs": [],
   "source": []
  },
  {
   "cell_type": "code",
   "execution_count": null,
   "id": "4bf6e1f7",
   "metadata": {},
   "outputs": [],
   "source": []
  },
  {
   "cell_type": "code",
   "execution_count": null,
   "id": "2ab491e1",
   "metadata": {},
   "outputs": [],
   "source": []
  },
  {
   "cell_type": "code",
   "execution_count": null,
   "id": "8157d07e",
   "metadata": {},
   "outputs": [],
   "source": []
  },
  {
   "cell_type": "code",
   "execution_count": null,
   "id": "c774847e",
   "metadata": {},
   "outputs": [],
   "source": [
    "zero = aim_sites.sel(variants=0)"
   ]
  },
  {
   "cell_type": "code",
   "execution_count": null,
   "id": "66ae21d8",
   "metadata": {},
   "outputs": [],
   "source": [
    "zero_pos = zero['variant_position'].values"
   ]
  },
  {
   "cell_type": "code",
   "execution_count": null,
   "id": "4c62f8ca",
   "metadata": {},
   "outputs": [],
   "source": [
    "region = '2R'"
   ]
  },
  {
   "cell_type": "code",
   "execution_count": null,
   "id": "ab6b37e0",
   "metadata": {},
   "outputs": [],
   "source": [
    "snp_calls = ag3.snp_calls(region=region, sample_sets=\"3.0\")"
   ]
  },
  {
   "cell_type": "code",
   "execution_count": null,
   "id": "46c4e914",
   "metadata": {},
   "outputs": [],
   "source": [
    "snp_calls"
   ]
  },
  {
   "cell_type": "code",
   "execution_count": null,
   "id": "780d8dbe",
   "metadata": {},
   "outputs": [],
   "source": [
    "snp_calls = snp_calls.set_index(variants='variant_position')"
   ]
  },
  {
   "cell_type": "code",
   "execution_count": null,
   "id": "572d145c",
   "metadata": {},
   "outputs": [],
   "source": [
    "ds_dict= {}"
   ]
  },
  {
   "cell_type": "code",
   "execution_count": null,
   "id": "d49e00d4",
   "metadata": {},
   "outputs": [],
   "source": [
    "%%time\n",
    "ds_dict[0] = snp_calls.sel(variants=zero_pos)\n",
    "ds_dict[0]"
   ]
  },
  {
   "cell_type": "code",
   "execution_count": null,
   "id": "68ff0af0",
   "metadata": {},
   "outputs": [],
   "source": [
    "%%time\n",
    "one = aim_sites.sel(variants=1)\n",
    "one_pos = one['variant_position'].values\n",
    "region = '2L'\n",
    "snp_calls = ag3.snp_calls(region=region, sample_sets=\"3.0\")\n",
    "snp_calls = snp_calls.set_index(variants='variant_position')"
   ]
  },
  {
   "cell_type": "code",
   "execution_count": null,
   "id": "94180fe0",
   "metadata": {},
   "outputs": [],
   "source": [
    "snp_calls = ag3.snp_calls(region=region, sample_sets=\"3.0\")"
   ]
  },
  {
   "cell_type": "code",
   "execution_count": null,
   "id": "234ca3d5",
   "metadata": {},
   "outputs": [],
   "source": [
    "%%time\n",
    "snp_calls = snp_calls.set_index(variants='variant_position')"
   ]
  },
  {
   "cell_type": "code",
   "execution_count": null,
   "id": "efe113dd",
   "metadata": {},
   "outputs": [],
   "source": [
    "%%time\n",
    "ds_dict[1] = snp_calls.sel(variants=one_pos)\n",
    "ds_dict[1]"
   ]
  },
  {
   "cell_type": "code",
   "execution_count": null,
   "id": "1d0ff471",
   "metadata": {},
   "outputs": [],
   "source": [
    "test_concat = xarray_concat([ds_dict[0], ds_dict[1]], \"variants\")"
   ]
  },
  {
   "cell_type": "code",
   "execution_count": null,
   "id": "c686a72f",
   "metadata": {},
   "outputs": [],
   "source": [
    "test_concat"
   ]
  },
  {
   "cell_type": "code",
   "execution_count": null,
   "id": "5b92bd9b",
   "metadata": {},
   "outputs": [],
   "source": [
    "test_concat[\"call_genotype\"][:1].values"
   ]
  },
  {
   "cell_type": "code",
   "execution_count": null,
   "id": "377ebfb0",
   "metadata": {},
   "outputs": [],
   "source": [
    "for c in contig_dict.keys():\n",
    "    print(c)\n",
    "    "
   ]
  },
  {
   "cell_type": "code",
   "execution_count": null,
   "id": "fe61c0d5",
   "metadata": {},
   "outputs": [],
   "source": []
  },
  {
   "cell_type": "code",
   "execution_count": null,
   "id": "8b84e2c9",
   "metadata": {},
   "outputs": [],
   "source": []
  },
  {
   "cell_type": "code",
   "execution_count": null,
   "id": "bcbbf424",
   "metadata": {},
   "outputs": [],
   "source": [
    "contig_dict = {\n",
    "    \"2R\": 0, \n",
    "    \"2L\": 1,\n",
    "    \"3R\": 2,\n",
    "    \"3L\": 3,\n",
    "    \"X\" : 4\n",
    "}"
   ]
  },
  {
   "cell_type": "code",
   "execution_count": null,
   "id": "73d2f53d",
   "metadata": {},
   "outputs": [],
   "source": [
    "snp_calls.sel?"
   ]
  },
  {
   "cell_type": "code",
   "execution_count": null,
   "id": "1e64763e",
   "metadata": {},
   "outputs": [],
   "source": []
  }
 ],
 "metadata": {
  "kernelspec": {
   "display_name": "Python 3",
   "language": "python",
   "name": "python3"
  },
  "language_info": {
   "codemirror_mode": {
    "name": "ipython",
    "version": 3
   },
   "file_extension": ".py",
   "mimetype": "text/x-python",
   "name": "python",
   "nbconvert_exporter": "python",
   "pygments_lexer": "ipython3",
   "version": "3.6.9"
  }
 },
 "nbformat": 4,
 "nbformat_minor": 5
}
